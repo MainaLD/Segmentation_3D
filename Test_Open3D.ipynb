{
  "nbformat": 4,
  "nbformat_minor": 0,
  "metadata": {
    "colab": {
      "name": "Test_Open3D.ipynb",
      "provenance": [],
      "mount_file_id": "1WQo1JnrzDwPO4aM9J7z0idALXuhgkqjy",
      "authorship_tag": "ABX9TyNFsKsxwqefjG6tkKm+gI6F",
      "include_colab_link": true
    },
    "kernelspec": {
      "name": "python3",
      "display_name": "Python 3"
    },
    "language_info": {
      "name": "python"
    }
  },
  "cells": [
    {
      "cell_type": "markdown",
      "metadata": {
        "id": "view-in-github",
        "colab_type": "text"
      },
      "source": [
        "<a href=\"https://colab.research.google.com/github/6Novabeam/Segmentation_3D/blob/main/Test_Open3D.ipynb\" target=\"_parent\"><img src=\"https://colab.research.google.com/assets/colab-badge.svg\" alt=\"Open In Colab\"/></a>"
      ]
    },
    {
      "cell_type": "code",
      "execution_count": null,
      "metadata": {
        "id": "IzaBDSwx35sE"
      },
      "outputs": [],
      "source": [
        ""
      ]
    }
  ]
}